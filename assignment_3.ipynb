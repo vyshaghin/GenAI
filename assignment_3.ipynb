{
 "cells": [
  {
   "cell_type": "code",
   "execution_count": 18,
   "id": "c71fb186",
   "metadata": {},
   "outputs": [],
   "source": [
    "import openai\n",
    "import os"
   ]
  },
  {
   "cell_type": "code",
   "execution_count": 2,
   "id": "2cc3e440",
   "metadata": {},
   "outputs": [],
   "source": [
    "from pydantic import BaseModel, ValidationError\n",
    "from typing import List\n",
    "\n",
    "class MeetingNotes(BaseModel):\n",
    "    summary: str\n",
    "    action_items: List[str]\n"
   ]
  },
  {
   "cell_type": "code",
   "execution_count": 12,
   "id": "998d7ac6",
   "metadata": {},
   "outputs": [],
   "source": [
    "import json\n",
    "def safe_parse_json(raw_text: str) -> dict:\n",
    "    try:\n",
    "        start = raw_text.index(\"{\")\n",
    "        end = raw_text.rindex(\"}\") + 1\n",
    "        return json.loads(raw_text[start:end])\n",
    "    except Exception as e:\n",
    "        raise ValueError(f\"Could not extract JSON: {e}\")\n"
   ]
  },
  {
   "cell_type": "code",
   "execution_count": null,
   "id": "798c0cb2",
   "metadata": {},
   "outputs": [
    {
     "name": "stderr",
     "output_type": "stream",
     "text": [
      "c:\\One-Drive\\OneDrive - Tredence\\Desktop\\databricks_genai_hackt-main\\agenticAI\\AgenticAIWorkspace\\.venv\\Lib\\site-packages\\langchain_community\\chat_models\\azure_openai.py:174: UserWarning: As of openai>=1.0.0, Azure endpoints should be specified via the `azure_endpoint` param not `openai_api_base` (or alias `base_url`). Updating `openai_api_base` from https://eastus.api.cognitive.microsoft.com/ to https://eastus.api.cognitive.microsoft.com/openai.\n",
      "  warnings.warn(\n",
      "c:\\One-Drive\\OneDrive - Tredence\\Desktop\\databricks_genai_hackt-main\\agenticAI\\AgenticAIWorkspace\\.venv\\Lib\\site-packages\\langchain_community\\chat_models\\azure_openai.py:181: UserWarning: As of openai>=1.0.0, if `deployment_name` (or alias `azure_deployment`) is specified then `openai_api_base` (or alias `base_url`) should not be. Instead use `deployment_name` (or alias `azure_deployment`) and `azure_endpoint`.\n",
      "  warnings.warn(\n",
      "c:\\One-Drive\\OneDrive - Tredence\\Desktop\\databricks_genai_hackt-main\\agenticAI\\AgenticAIWorkspace\\.venv\\Lib\\site-packages\\langchain_community\\chat_models\\azure_openai.py:189: UserWarning: As of openai>=1.0.0, if `openai_api_base` (or alias `base_url`) is specified it is expected to be of the form https://example-resource.azure.openai.com/openai/deployments/example-deployment. Updating https://eastus.api.cognitive.microsoft.com/ to https://eastus.api.cognitive.microsoft.com/openai.\n",
      "  warnings.warn(\n"
     ]
    }
   ],
   "source": [
    "from langchain.chat_models import AzureChatOpenAI\n",
    "from langchain.chat_models import AzureChatOpenAI\n",
    "from langchain.schema import HumanMessage, SystemMessage\n",
    "llm = AzureChatOpenAI(\n",
    "    deployment_name=\"\",\n",
    "    temperature=0.2,\n",
    "    openai_api_key=\"\",\n",
    "    openai_api_base=\"\",\n",
    "    openai_api_version=\"2024-12-01-preview\"\n",
    ")\n",
    "\n",
    "def build_prompt(transcript):\n",
    "    return f\"\"\"You are a meeting assistant.\n",
    "1. Summarize the meeting transcript below in exactly two sentences.\n",
    "2. Then list all action items mentioned, each as a separate bullet beginning with a dash.\n",
    "Return the result strictly as JSON with keys \"summary\" and \"action_items\".\n",
    "\n",
    "Transcript:\n",
    "{transcript}\n",
    "\"\"\"\n",
    "\n",
    "def extract_meeting_notes(transcript: str) -> dict:\n",
    "    try:\n",
    "        prompt = build_prompt(transcript)\n",
    "        response = llm([HumanMessage(content=prompt)])\n",
    "        raw_output = response.content\n",
    "        parsed_dict = safe_parse_json(raw_output)\n",
    "        return MeetingNotes.model_validate(parsed_dict).dict()\n",
    "\n",
    "    except Exception:\n",
    "        retry_msg = [\n",
    "            SystemMessage(content=\"Please output valid JSON only.\"),\n",
    "            HumanMessage(content=prompt)\n",
    "        ]\n",
    "        response = llm(retry_msg)\n",
    "        raw_output = response.content\n",
    "        parsed_dict = safe_parse_json(raw_output)\n",
    "        return MeetingNotes.model_validate(parsed_dict).dict()\n"
   ]
  },
  {
   "cell_type": "code",
   "execution_count": 19,
   "id": "a4bc31ae",
   "metadata": {},
   "outputs": [
    {
     "name": "stdout",
     "output_type": "stream",
     "text": [
      "\n",
      " Sample Input 1\n"
     ]
    },
    {
     "name": "stderr",
     "output_type": "stream",
     "text": [
      "C:\\Users\\vyshagh.a\\AppData\\Local\\Temp\\ipykernel_8576\\3232947862.py:28: PydanticDeprecatedSince20: The `dict` method is deprecated; use `model_dump` instead. Deprecated in Pydantic V2.0 to be removed in V3.0. See Pydantic V2 Migration Guide at https://errors.pydantic.dev/2.10/migration/\n",
      "  return MeetingNotes.model_validate(parsed_dict).dict()\n"
     ]
    },
    {
     "name": "stdout",
     "output_type": "stream",
     "text": [
      "Summary: The marketing sync focused on the progress of the social campaign and the timeline for asset delivery. Action items include sharing the campaign draft, scheduling ads, submitting budget requests, and sending out the final budget spreadsheet.\n",
      "Action Items:\n",
      "- Emma will share the social campaign draft today.\n",
      "- Frank will ensure the design team delivers assets by Tuesday.\n",
      "- Emma will schedule the ads for next week once assets are received.\n",
      "- Team members need to submit their budget requests before the end of the day.\n",
      "- The host will send out the final budget spreadsheet.\n",
      "\n",
      " Sample Input 2\n"
     ]
    },
    {
     "name": "stderr",
     "output_type": "stream",
     "text": [
      "C:\\Users\\vyshagh.a\\AppData\\Local\\Temp\\ipykernel_8576\\3232947862.py:28: PydanticDeprecatedSince20: The `dict` method is deprecated; use `model_dump` instead. Deprecated in Pydantic V2.0 to be removed in V3.0. See Pydantic V2 Migration Guide at https://errors.pydantic.dev/2.10/migration/\n",
      "  return MeetingNotes.model_validate(parsed_dict).dict()\n"
     ]
    },
    {
     "name": "stdout",
     "output_type": "stream",
     "text": [
      "Summary: The team met to finalize the Q3 roadmap, discussing various tasks and deadlines. Bob will compile the stakeholder feedback into a slide deck by Monday, while Carol will set up user-testing sessions next week and Dan will push the new UI mockups to staging on Wednesday.\n",
      "Action Items:\n",
      "- Review the updated feature list by Friday.\n",
      "- Set up user-testing sessions next week.\n",
      "- Push the new UI mockups to staging on Wednesday.\n",
      "- Compile the stakeholder feedback into a slide deck by Monday.\n",
      "\n",
      " Sample Input 3\n"
     ]
    },
    {
     "name": "stderr",
     "output_type": "stream",
     "text": [
      "C:\\Users\\vyshagh.a\\AppData\\Local\\Temp\\ipykernel_8576\\3232947862.py:28: PydanticDeprecatedSince20: The `dict` method is deprecated; use `model_dump` instead. Deprecated in Pydantic V2.0 to be removed in V3.0. See Pydantic V2 Migration Guide at https://errors.pydantic.dev/2.10/migration/\n",
      "  return MeetingNotes.model_validate(parsed_dict).dict()\n"
     ]
    },
    {
     "name": "stdout",
     "output_type": "stream",
     "text": [
      "Summary: The team identified a bottleneck in the checkout API and discussed steps to address it. Carlos will benchmark response times, propose index changes, and draft a rollback plan by the specified deadlines.\n",
      "Action Items:\n",
      "- Carlos will benchmark the current response times by tomorrow.\n",
      "- Carlos will propose index changes by Thursday.\n",
      "- Carlos will draft a rollback plan in case of production issues.\n",
      "\n",
      " Sample Input 4\n"
     ]
    },
    {
     "name": "stderr",
     "output_type": "stream",
     "text": [
      "C:\\Users\\vyshagh.a\\AppData\\Local\\Temp\\ipykernel_8576\\3232947862.py:28: PydanticDeprecatedSince20: The `dict` method is deprecated; use `model_dump` instead. Deprecated in Pydantic V2.0 to be removed in V3.0. See Pydantic V2 Migration Guide at https://errors.pydantic.dev/2.10/migration/\n",
      "  return MeetingNotes.model_validate(parsed_dict).dict()\n"
     ]
    },
    {
     "name": "stdout",
     "output_type": "stream",
     "text": [
      "Summary: The team discussed the need to update the travel-expense policy, with Alex agreeing to draft a new document. Legal will review the draft and provide feedback, after which a companywide announcement will be scheduled once finalized.\n",
      "Action Items:\n",
      "- Alex will draft the new travel-expense policy document.\n",
      "- Legal will review the draft and provide feedback within three days.\n",
      "- HR will schedule a companywide announcement once the policy is finalized.\n",
      "\n",
      " Sample Input 5\n",
      "Summary: The team discussed the confusion new users face during the app's onboarding process and agreed to revise the onboarding flow. Maya will draft the new flow by Friday, and Liam will set up tracking in Mixpanel after finalization.\n",
      "Action Items:\n",
      "- Maya will draft a revised onboarding flow by Friday.\n",
      "- Maya will coordinate with UX for A/B testing.\n",
      "- Liam will set up the tracking in Mixpanel once the version is finalized.\n"
     ]
    },
    {
     "name": "stderr",
     "output_type": "stream",
     "text": [
      "C:\\Users\\vyshagh.a\\AppData\\Local\\Temp\\ipykernel_8576\\3232947862.py:28: PydanticDeprecatedSince20: The `dict` method is deprecated; use `model_dump` instead. Deprecated in Pydantic V2.0 to be removed in V3.0. See Pydantic V2 Migration Guide at https://errors.pydantic.dev/2.10/migration/\n",
      "  return MeetingNotes.model_validate(parsed_dict).dict()\n"
     ]
    }
   ],
   "source": [
    "test_cases = [\n",
    "    {\n",
    "        \"name\": \"Sample Input 1\",\n",
    "        \"transcript\": \"\"\"Host: Let’s kick off our marketing sync.\n",
    "Emma: The social campaign draft is 80% done; I’ll share it today.\n",
    "Frank: I spoke with the design team—they’ll deliver assets by Tuesday.\n",
    "Emma: Once we have assets, I’ll schedule the ads for next week.\n",
    "George: Reminder: submit your budget requests before end of day.\n",
    "Host: Noted. I’ll send out the final budget spreadsheet.\"\"\"\n",
    "    },\n",
    "    {\n",
    "        \"name\": \"Sample Input 2\",\n",
    "        \"transcript\": \"\"\"Alice: Welcome everyone. Today we need to finalize the Q3 roadmap.\n",
    "Bob: I’ve emailed the updated feature list—please review by Friday.\n",
    "Carol: I’ll set up the user‐testing sessions next week.\n",
    "Dan: Let’s push the new UI mockups to staging on Wednesday.\n",
    "Alice: Great. Also, can someone compile the stakeholder feedback into a slide deck?\n",
    "Bob: I can handle the slide deck by Monday.\n",
    "Alice: Thanks, team. Meeting adjourned.\"\"\"\n",
    "    },\n",
    "    {\n",
    "        \"name\": \"Sample Input 3\",\n",
    "        \"transcript\": \"\"\"Priya: We’ve identified a bottleneck in the checkout API.\n",
    "Carlos: I’ll benchmark the current response times by tomorrow.\n",
    "Priya: After that, optimize the database indices.\n",
    "Carlos: Sure, I’ll propose index changes by Thursday.\n",
    "Sara: Also, draft a rollback plan in case of production issues.\n",
    "Carlos: I’ll include that in my ticket.\"\"\"\n",
    "    },\n",
    "    {\n",
    "        \"name\": \"Sample Input 4\",\n",
    "        \"transcript\": \"\"\"HR: We need to update the travel‐expense policy.\n",
    "Alex: I’ll draft the new policy doc and share with legal.\n",
    "HR: Please include guidelines on per diem limits.\n",
    "Legal: I’ll review and provide feedback within three days.\n",
    "HR: Once finalized, schedule a companywide announcement.\"\"\"\n",
    "    },\n",
    "    {\n",
    "        \"name\": \"Sample Input 5\",\n",
    "        \"transcript\": \"\"\"Jordan: The app's user onboarding is still confusing to new users.\n",
    "Maya: I’ll draft a revised onboarding flow by Friday.\n",
    "Jordan: Can we also A/B test it with two different copy styles?\n",
    "Maya: Yes, I’ll coordinate with UX.\n",
    "Liam: I’ll set up the tracking in Mixpanel once we finalize the version.\"\"\"\n",
    "    }\n",
    "]\n",
    "for case in test_cases:\n",
    "    print(f\"\\n {case['name']}\")\n",
    "    try:\n",
    "        output = extract_meeting_notes(case[\"transcript\"])\n",
    "        print(\"Summary:\", output[\"summary\"])\n",
    "        print(\"Action Items:\")\n",
    "        for item in output[\"action_items\"]:\n",
    "            print(item)\n",
    "    except Exception as e:\n",
    "        print(\"Failed to process:\", str(e))\n"
   ]
  },
  {
   "cell_type": "code",
   "execution_count": null,
   "id": "549d8886",
   "metadata": {},
   "outputs": [],
   "source": []
  }
 ],
 "metadata": {
  "kernelspec": {
   "display_name": ".venv",
   "language": "python",
   "name": "python3"
  },
  "language_info": {
   "codemirror_mode": {
    "name": "ipython",
    "version": 3
   },
   "file_extension": ".py",
   "mimetype": "text/x-python",
   "name": "python",
   "nbconvert_exporter": "python",
   "pygments_lexer": "ipython3",
   "version": "3.12.4"
  }
 },
 "nbformat": 4,
 "nbformat_minor": 5
}
