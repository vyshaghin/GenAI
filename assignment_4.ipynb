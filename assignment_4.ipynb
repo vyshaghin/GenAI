{
 "cells": [
  {
   "cell_type": "markdown",
   "id": "2dbca9cd",
   "metadata": {},
   "source": [
    "# Assignment 4: Agentic RAG System (LangGraph + Azure OpenAI)\n",
    "\n",
    "This notebook implements a simplified Agentic RAG (Retrieval-Augmented Generation) pipeline using LangGraph, AzureChatOpenAI, and a small software best-practices knowledge base.\n",
    "\n",
    "## What It Does\n",
    "For a user question:\n",
    "1. Retrieves top-5 relevant snippets from a knowledge base (vector search).\n",
    "2. Generates an initial answer using the retrieved context and Azure OpenAI.\n",
    "3. Self-critiques the answer to check for completeness.\n",
    "4. If incomplete, refines the answer using one additional snippet.\n",
    "5. Returns the final answer with citations.\n",
    "\n",
    "## Key Components\n",
    "- **Vector DB**: ChromaDB (stores embedded KB snippets)\n",
    "- **Embedding Model**: `all-MiniLM-L6-v2` (via `sentence-transformers`)\n",
    "- **LLM**: `AzureChatOpenAI` (GPT-4 via Azure)\n",
    "- **LangGraph**: Manages end-to-end control flow across nodes:\n",
    "  - `retrieve_kb`\n",
    "  - `generate_answer`\n",
    "  - `critique_answer`\n",
    "  - `refine_answer`\n",
    "\n",
    "## Required Environment Variables\n",
    "Set these in your environment:\n",
    "- `AZURE_OPENAI_API_KEY`\n",
    "- `AZURE_OPENAI_API_BASE`\n",
    "- `AZURE_OPENAI_DEPLOYMENT`\n",
    "- `AZURE_OPENAI_API_VERSION` (use `2024-12-01-preview`)\n",
    "\n"
   ]
  },
  {
   "cell_type": "code",
   "execution_count": 13,
   "id": "38a2ceb9",
   "metadata": {},
   "outputs": [],
   "source": [
    "#!pip install openai langgraph chromadb sentence-transformers pydantic\n"
   ]
  },
  {
   "cell_type": "code",
   "execution_count": null,
   "id": "b1d3f58d",
   "metadata": {},
   "outputs": [
    {
     "name": "stderr",
     "output_type": "stream",
     "text": [
      "c:\\One-Drive\\OneDrive - Tredence\\Desktop\\databricks_genai_hackt-main\\agenticAI\\AgenticAIWorkspace\\.venv\\Lib\\site-packages\\tqdm\\auto.py:21: TqdmWarning: IProgress not found. Please update jupyter and ipywidgets. See https://ipywidgets.readthedocs.io/en/stable/user_install.html\n",
      "  from .autonotebook import tqdm as notebook_tqdm\n",
      "C:\\Users\\vyshagh.a\\AppData\\Local\\Temp\\ipykernel_9984\\4265666793.py:13: LangChainDeprecationWarning: The class `AzureChatOpenAI` was deprecated in LangChain 0.0.10 and will be removed in 1.0. An updated version of the class exists in the :class:`~langchain-openai package and should be used instead. To use it run `pip install -U :class:`~langchain-openai` and import as `from :class:`~langchain_openai import AzureChatOpenAI``.\n",
      "  llm = AzureChatOpenAI(\n",
      "c:\\One-Drive\\OneDrive - Tredence\\Desktop\\databricks_genai_hackt-main\\agenticAI\\AgenticAIWorkspace\\.venv\\Lib\\site-packages\\langchain_community\\chat_models\\azure_openai.py:174: UserWarning: As of openai>=1.0.0, Azure endpoints should be specified via the `azure_endpoint` param not `openai_api_base` (or alias `base_url`). Updating `openai_api_base` from https://eastus.api.cognitive.microsoft.com/ to https://eastus.api.cognitive.microsoft.com/openai.\n",
      "  warnings.warn(\n",
      "c:\\One-Drive\\OneDrive - Tredence\\Desktop\\databricks_genai_hackt-main\\agenticAI\\AgenticAIWorkspace\\.venv\\Lib\\site-packages\\langchain_community\\chat_models\\azure_openai.py:181: UserWarning: As of openai>=1.0.0, if `deployment_name` (or alias `azure_deployment`) is specified then `openai_api_base` (or alias `base_url`) should not be. Instead use `deployment_name` (or alias `azure_deployment`) and `azure_endpoint`.\n",
      "  warnings.warn(\n",
      "c:\\One-Drive\\OneDrive - Tredence\\Desktop\\databricks_genai_hackt-main\\agenticAI\\AgenticAIWorkspace\\.venv\\Lib\\site-packages\\langchain_community\\chat_models\\azure_openai.py:189: UserWarning: As of openai>=1.0.0, if `openai_api_base` (or alias `base_url`) is specified it is expected to be of the form https://example-resource.azure.openai.com/openai/deployments/example-deployment. Updating https://eastus.api.cognitive.microsoft.com/ to https://eastus.api.cognitive.microsoft.com/openai.\n",
      "  warnings.warn(\n"
     ]
    }
   ],
   "source": [
    "import os, json\n",
    "from typing import List, Dict\n",
    "from pydantic import BaseModel\n",
    "from sentence_transformers import SentenceTransformer\n",
    "import chromadb\n",
    "from chromadb.config import Settings\n",
    "from langchain.chat_models import AzureChatOpenAI\n",
    "from langchain.prompts import ChatPromptTemplate\n",
    "from langchain.chains import LLMChain\n",
    "from langgraph.graph import StateGraph, END\n",
    "\n",
    "# Azure OpenAI setup\n",
    "llm = AzureChatOpenAI(\n",
    "    deployment_name=\"myllm\",\n",
    "    temperature=0.2,\n",
    "    openai_api_key=\"\",\n",
    "    openai_api_base=\"\",\n",
    "    openai_api_version=\"2024-12-01-preview\"\n",
    ")"
   ]
  },
  {
   "cell_type": "code",
   "execution_count": 3,
   "id": "0215126e",
   "metadata": {},
   "outputs": [
    {
     "name": "stdout",
     "output_type": "stream",
     "text": [
      "Indexed 30 documents into Chroma.\n"
     ]
    }
   ],
   "source": [
    "client = chromadb.Client(Settings())\n",
    "collection = client.create_collection(\"kb_index_new\")\n",
    "\n",
    "with open(\"self_critique_loop_dataset.json\") as f:\n",
    "    kb_data = json.load(f)\n",
    "\n",
    "embedder = SentenceTransformer(\"all-MiniLM-L6-v2\")\n",
    "\n",
    "for entry in kb_data:\n",
    "    emb = embedder.encode(entry[\"answer_snippet\"]).tolist()\n",
    "    collection.add(\n",
    "        ids=[entry[\"doc_id\"]],\n",
    "        documents=[entry[\"answer_snippet\"]],\n",
    "        embeddings=[emb],\n",
    "        metadatas=[{\n",
    "            \"source\": entry[\"source\"],\n",
    "            \"last_updated\": entry[\"last_updated\"]\n",
    "        }]\n",
    "    )\n",
    "\n",
    "print(f\"Indexed {len(kb_data)} documents into Chroma.\")\n"
   ]
  },
  {
   "cell_type": "code",
   "execution_count": 8,
   "id": "897932fe",
   "metadata": {},
   "outputs": [],
   "source": [
    "from langchain.chat_models import ChatOpenAI\n",
    "from langgraph.graph import StateGraph, END\n",
    "\n",
    "\n",
    "# Pydantic Schema\n",
    "class MeetingNotes(BaseModel):\n",
    "    summary: str\n",
    "    action_items: List[str]\n",
    "\n",
    "\n",
    "\n",
    "from typing import List, Dict, Optional\n",
    "from pydantic import BaseModel\n",
    "\n",
    "class RAGState(BaseModel):\n",
    "    user_question: str\n",
    "    kb_hits: Optional[List[Dict]] = None\n",
    "    initial_answer: Optional[str] = None\n",
    "    critique_result: Optional[str] = None\n",
    "    answer: Optional[str] = None\n",
    "\n",
    "\n",
    "# Retriever node function\n",
    "def retrieve_kb(query: str, top_k=5):\n",
    "    q_vec = embedder.encode(query).tolist()\n",
    "    results = collection.query(query_embeddings=[q_vec], n_results=top_k)\n",
    "    return [\n",
    "        {\"doc_id\": doc_id, \"answer_snippet\": doc, \"source\": meta[\"source\"]}\n",
    "        for doc_id, doc, meta in zip(results[\"ids\"][0], results[\"documents\"][0], results[\"metadatas\"][0])\n",
    "    ]\n",
    "\n",
    "def generate_text(kb_hits):\n",
    "    return \"\\n\".join([f\"[{hit['doc_id']}] {hit['answer_snippet']}\" for hit in kb_hits])\n",
    "\n",
    "\n",
    "\n",
    "def retrieve_kb_node(state: RAGState) -> RAGState:\n",
    "    hits = retrieve_kb(state.user_question)\n",
    "    return state.copy(update={\"kb_hits\": hits})\n",
    "\n"
   ]
  },
  {
   "cell_type": "code",
   "execution_count": 9,
   "id": "66a3d885",
   "metadata": {},
   "outputs": [
    {
     "name": "stderr",
     "output_type": "stream",
     "text": [
      "C:\\Users\\vyshagh.a\\AppData\\Local\\Temp\\ipykernel_9984\\1644381072.py:11: LangChainDeprecationWarning: The class `LLMChain` was deprecated in LangChain 0.1.17 and will be removed in 1.0. Use :meth:`~RunnableSequence, e.g., `prompt | llm`` instead.\n",
      "  generate_chain = LLMChain(llm=llm, prompt=generate_prompt)\n"
     ]
    }
   ],
   "source": [
    "from langchain.chains import LLMChain\n",
    "from langchain.prompts import ChatPromptTemplate\n",
    "\n",
    "# Generate node\n",
    "generate_prompt = ChatPromptTemplate.from_template(\n",
    "    \"You are a software best-practices assistant.\\n\"\n",
    "    \"User Question:\\n{user_question}\\n\\n\"\n",
    "    \"Retrieved Snippets:\\n{kb_text}\\n\\n\"\n",
    "    \"Task:\\nBased on these snippets, write a concise answer. Cite doc_ids in [brackets].\"\n",
    ")\n",
    "generate_chain = LLMChain(llm=llm, prompt=generate_prompt)\n",
    "\n",
    "def generate_node(state: RAGState) -> RAGState:\n",
    "    kb_text = generate_text(state.kb_hits)\n",
    "    answer = generate_chain.run({\n",
    "        \"user_question\": state.user_question,\n",
    "        \"kb_text\": kb_text\n",
    "    })\n",
    "    return state.copy(update={\"initial_answer\": answer})\n",
    "\n",
    "\n",
    "# Critique node\n",
    "critique_prompt = ChatPromptTemplate.from_template(\n",
    "    \"You are a critical QA assistant.\\n\"\n",
    "    \"Question: {user_question}\\n\"\n",
    "    \"Initial Answer: {initial_answer}\\n\"\n",
    "    \"KB Snippets:\\n{kb_text}\\n\"\n",
    "    \"If complete, respond: COMPLETE.\\nElse: REFINE: <missing topics>\"\n",
    ")\n",
    "critique_chain = LLMChain(llm=llm, prompt=critique_prompt)\n",
    "\n",
    "def critique_node(state: RAGState) -> RAGState:\n",
    "    kb_text = generate_text(state.kb_hits)\n",
    "    critique = critique_chain.run({\n",
    "        \"user_question\": state.user_question,\n",
    "        \"initial_answer\": state.initial_answer,\n",
    "        \"kb_text\": kb_text\n",
    "    })\n",
    "    return state.copy(update={\"critique_result\": critique})\n",
    "\n",
    "\n",
    "# Refine node\n",
    "refine_prompt = ChatPromptTemplate.from_template(\n",
    "    \"You are refining an answer.\\n\"\n",
    "    \"Question: {user_question}\\n\"\n",
    "    \"Initial Answer: {initial_answer}\\n\"\n",
    "    \"Critique: {critique_result}\\n\"\n",
    "    \"Additional Snippet:\\n{kb_text}\\n\"\n",
    "    \"Return the refined answer citing doc_ids.\"\n",
    ")\n",
    "\n",
    "def refine_node(state: RAGState) -> RAGState:\n",
    "    if not state.critique_result or \"REFINE:\" not in state.critique_result:\n",
    "        return state.copy(update={\"answer\": state.initial_answer})\n",
    "\n",
    "    missing = state.critique_result.split(\"REFINE:\")[1].strip()\n",
    "    extra_hit = retrieve_kb(f\"{state.user_question} and {missing}\", top_k=1)\n",
    "    extra_text = generate_text(extra_hit)\n",
    "\n",
    "    refined_answer = LLMChain(llm=llm, prompt=refine_prompt).run({\n",
    "        \"user_question\": state.user_question,\n",
    "        \"initial_answer\": state.initial_answer,\n",
    "        \"critique_result\": state.critique_result,\n",
    "        \"kb_text\": extra_text\n",
    "    })\n",
    "\n",
    "    return state.copy(update={\"answer\": refined_answer})\n",
    "\n"
   ]
  },
  {
   "cell_type": "code",
   "execution_count": 15,
   "id": "852744a4",
   "metadata": {},
   "outputs": [],
   "source": [
    "from langgraph.graph import StateGraph, END\n",
    "\n",
    "builder = StateGraph(state_schema=RAGState)\n",
    "builder.add_node(\"retrieve_kb\", lambda s: RAGState(user_question=s.user_question, kb_hits=retrieve_kb(s.user_question)))\n",
    "builder.add_node(\"generate_answer\", generate_node)\n",
    "builder.add_node(\"critique_answer\", critique_node)\n",
    "builder.add_node(\"refine_answer\", refine_node)\n",
    "\n",
    "builder.set_entry_point(\"retrieve_kb\")\n",
    "builder.add_edge(\"retrieve_kb\", \"generate_answer\")\n",
    "builder.add_edge(\"generate_answer\", \"critique_answer\")\n",
    "\n",
    "def check_refinement(state: RAGState):\n",
    "    return \"refine_answer\" if state.critique_result and \"REFINE:\" in state.critique_result else END\n",
    "\n",
    "builder.add_conditional_edges(\"critique_answer\", check_refinement)\n",
    "builder.add_edge(\"refine_answer\", END)\n",
    "\n",
    "graph = builder.compile()\n"
   ]
  },
  {
   "cell_type": "code",
   "execution_count": 16,
   "id": "c5907385",
   "metadata": {},
   "outputs": [
    {
     "data": {
      "image/png": "[encoded data removed]",
      "text/plain": [
       "<langgraph.graph.state.CompiledStateGraph object at 0x000001888009DBE0>"
      ]
     },
     "execution_count": 16,
     "metadata": {},
     "output_type": "execute_result"
    }
   ],
   "source": [
    "graph"
   ]
  },
  {
   "cell_type": "code",
   "execution_count": 11,
   "id": "c29e9283",
   "metadata": {},
   "outputs": [
    {
     "name": "stdout",
     "output_type": "stream",
     "text": [
      "\n",
      "Question: What are best practices for caching?\n"
     ]
    },
    {
     "name": "stderr",
     "output_type": "stream",
     "text": [
      "C:\\Users\\vyshagh.a\\AppData\\Local\\Temp\\ipykernel_9984\\1644381072.py:15: LangChainDeprecationWarning: The method `Chain.run` was deprecated in langchain 0.1.0 and will be removed in 1.0. Use :meth:`~invoke` instead.\n",
      "  answer = generate_chain.run({\n",
      "C:\\Users\\vyshagh.a\\AppData\\Local\\Temp\\ipykernel_9984\\1644381072.py:19: PydanticDeprecatedSince20: The `copy` method is deprecated; use `model_copy` instead. See the docstring of `BaseModel.copy` for details about how to handle `include` and `exclude`. Deprecated in Pydantic V2.0 to be removed in V3.0. See Pydantic V2 Migration Guide at https://errors.pydantic.dev/2.10/migration/\n",
      "  return state.copy(update={\"initial_answer\": answer})\n",
      "C:\\Users\\vyshagh.a\\AppData\\Local\\Temp\\ipykernel_9984\\1644381072.py:39: PydanticDeprecatedSince20: The `copy` method is deprecated; use `model_copy` instead. See the docstring of `BaseModel.copy` for details about how to handle `include` and `exclude`. Deprecated in Pydantic V2.0 to be removed in V3.0. See Pydantic V2 Migration Guide at https://errors.pydantic.dev/2.10/migration/\n",
      "  return state.copy(update={\"critique_result\": critique})\n",
      "C:\\Users\\vyshagh.a\\AppData\\Local\\Temp\\ipykernel_9984\\1644381072.py:67: PydanticDeprecatedSince20: The `copy` method is deprecated; use `model_copy` instead. See the docstring of `BaseModel.copy` for details about how to handle `include` and `exclude`. Deprecated in Pydantic V2.0 to be removed in V3.0. See Pydantic V2 Migration Guide at https://errors.pydantic.dev/2.10/migration/\n",
      "  return state.copy(update={\"answer\": refined_answer})\n"
     ]
    },
    {
     "name": "stdout",
     "output_type": "stream",
     "text": [
      "Final Answer:\n",
      " When implementing caching, it's crucial to adhere to well-defined patterns to ensure efficiency and reliability. Key best practices include:\n",
      "\n",
      "1. **Define Cache Strategy**: Choose between different caching strategies such as in-memory caching, distributed caching, or CDN caching based on your application's needs.\n",
      "\n",
      "2. **Set Expiration Policies**: Implement appropriate expiration times for cached data to ensure that stale data is not served.\n",
      "\n",
      "3. **Cache Invalidation**: Establish clear rules for when and how cached data should be invalidated to maintain data consistency.\n",
      "\n",
      "4. **Monitor Cache Performance**: Regularly monitor cache hit/miss ratios and performance metrics to optimize caching strategies.\n",
      "\n",
      "5. **Fallback Mechanisms**: Implement fallback mechanisms to handle cache misses gracefully, ensuring that your application can still function without cached data.\n",
      "\n",
      "6. **Cache Granularity**: Determine the appropriate level of granularity for cached data (e.g., caching entire objects vs. individual fields) to optimize performance and resource usage.\n",
      "\n",
      "7. **Data Partitioning**: For distributed caching, consider partitioning your cache to improve scalability and reduce contention.\n",
      "\n",
      "8. **Load Testing**: Conduct load testing to understand how caching impacts application performance under different conditions.\n",
      "\n",
      "9. **Security Considerations**: Ensure that sensitive data is not cached or is properly encrypted if caching is necessary.\n",
      "\n",
      "10. **Versioning**: Implement versioning for cached data to manage changes in data structure or content effectively.\n",
      "\n",
      "Incorporating these practices can help improve application performance and user experience while maintaining data integrity [KB003][KB013][KB023].\n",
      "\n",
      "Question: How should I set up CI/CD pipelines?\n"
     ]
    },
    {
     "name": "stderr",
     "output_type": "stream",
     "text": [
      "C:\\Users\\vyshagh.a\\AppData\\Local\\Temp\\ipykernel_9984\\1644381072.py:19: PydanticDeprecatedSince20: The `copy` method is deprecated; use `model_copy` instead. See the docstring of `BaseModel.copy` for details about how to handle `include` and `exclude`. Deprecated in Pydantic V2.0 to be removed in V3.0. See Pydantic V2 Migration Guide at https://errors.pydantic.dev/2.10/migration/\n",
      "  return state.copy(update={\"initial_answer\": answer})\n",
      "C:\\Users\\vyshagh.a\\AppData\\Local\\Temp\\ipykernel_9984\\1644381072.py:39: PydanticDeprecatedSince20: The `copy` method is deprecated; use `model_copy` instead. See the docstring of `BaseModel.copy` for details about how to handle `include` and `exclude`. Deprecated in Pydantic V2.0 to be removed in V3.0. See Pydantic V2 Migration Guide at https://errors.pydantic.dev/2.10/migration/\n",
      "  return state.copy(update={\"critique_result\": critique})\n",
      "C:\\Users\\vyshagh.a\\AppData\\Local\\Temp\\ipykernel_9984\\1644381072.py:67: PydanticDeprecatedSince20: The `copy` method is deprecated; use `model_copy` instead. See the docstring of `BaseModel.copy` for details about how to handle `include` and `exclude`. Deprecated in Pydantic V2.0 to be removed in V3.0. See Pydantic V2 Migration Guide at https://errors.pydantic.dev/2.10/migration/\n",
      "  return state.copy(update={\"answer\": refined_answer})\n"
     ]
    },
    {
     "name": "stdout",
     "output_type": "stream",
     "text": [
      "Final Answer:\n",
      " To set up CI/CD pipelines effectively, follow these steps to ensure a robust and efficient process:\n",
      "\n",
      "1. **Select CI/CD Tools**: Choose appropriate CI/CD tools that fit your project needs. Popular options include Jenkins, GitLab CI, CircleCI, and Travis CI. Evaluate their features, integrations, and community support.\n",
      "\n",
      "2. **Configure Environments**: Set up different environments for development, testing, and production. This allows you to test changes in a controlled setting before deploying to production.\n",
      "\n",
      "3. **Define Triggers for Builds**: Establish triggers for your CI/CD pipeline, such as code commits, pull requests, or scheduled builds. This ensures that your pipeline runs automatically when changes are made.\n",
      "\n",
      "4. **Integrate with Version Control Systems**: Connect your CI/CD pipeline to a version control system like Git. This integration allows for seamless code updates and version tracking.\n",
      "\n",
      "5. **Automate Testing**: Include automated testing stages in your pipeline. This can involve unit tests, integration tests, and end-to-end tests to ensure code quality before deployment.\n",
      "\n",
      "6. **Deployment Stages**: Define clear stages for deploying your application. This may include deploying to staging environments for further testing before moving to production.\n",
      "\n",
      "7. **Monitoring and Maintenance**: Implement monitoring tools to track the performance and health of your CI/CD pipeline. Regularly review and maintain your pipeline to address any issues and improve efficiency.\n",
      "\n",
      "8. **Handle Rollbacks**: Plan for rollbacks in case of deployment failures. This can involve maintaining previous versions of your application and having a clear rollback strategy in place.\n",
      "\n",
      "9. **Manage Secrets**: Use secret management tools to securely handle sensitive information such as API keys and passwords. This helps protect your application from security vulnerabilities.\n",
      "\n",
      "For more detailed guidance, refer to the relevant documentation [KB007], [KB017], and [KB027]. Following these steps will help you establish a well-defined CI/CD pipeline that enhances your development workflow and ensures reliable deployments.\n",
      "\n",
      "Question: What are performance tuning tips?\n"
     ]
    },
    {
     "name": "stderr",
     "output_type": "stream",
     "text": [
      "C:\\Users\\vyshagh.a\\AppData\\Local\\Temp\\ipykernel_9984\\1644381072.py:19: PydanticDeprecatedSince20: The `copy` method is deprecated; use `model_copy` instead. See the docstring of `BaseModel.copy` for details about how to handle `include` and `exclude`. Deprecated in Pydantic V2.0 to be removed in V3.0. See Pydantic V2 Migration Guide at https://errors.pydantic.dev/2.10/migration/\n",
      "  return state.copy(update={\"initial_answer\": answer})\n",
      "C:\\Users\\vyshagh.a\\AppData\\Local\\Temp\\ipykernel_9984\\1644381072.py:39: PydanticDeprecatedSince20: The `copy` method is deprecated; use `model_copy` instead. See the docstring of `BaseModel.copy` for details about how to handle `include` and `exclude`. Deprecated in Pydantic V2.0 to be removed in V3.0. See Pydantic V2 Migration Guide at https://errors.pydantic.dev/2.10/migration/\n",
      "  return state.copy(update={\"critique_result\": critique})\n",
      "C:\\Users\\vyshagh.a\\AppData\\Local\\Temp\\ipykernel_9984\\1644381072.py:67: PydanticDeprecatedSince20: The `copy` method is deprecated; use `model_copy` instead. See the docstring of `BaseModel.copy` for details about how to handle `include` and `exclude`. Deprecated in Pydantic V2.0 to be removed in V3.0. See Pydantic V2 Migration Guide at https://errors.pydantic.dev/2.10/migration/\n",
      "  return state.copy(update={\"answer\": refined_answer})\n"
     ]
    },
    {
     "name": "stdout",
     "output_type": "stream",
     "text": [
      "Final Answer:\n",
      " Refined Answer: When addressing performance tuning, it's crucial to follow well-defined patterns to ensure efficiency and effectiveness. Here are some key tips to enhance the performance of your application:\n",
      "\n",
      "1. **Identify Bottlenecks**: Utilize profiling tools to pinpoint areas where performance lags, allowing you to focus your optimization efforts effectively.\n",
      "\n",
      "2. **Optimize Algorithms**: Review and refine algorithms to improve their time and space complexity, ensuring that they run as efficiently as possible.\n",
      "\n",
      "3. **Database Optimization**: Ensure that your database queries are efficient. Consider indexing, query optimization, and normalization to enhance performance.\n",
      "\n",
      "4. **Caching Strategies**: Implement caching mechanisms to reduce load times and minimize database hits, which can significantly improve response times.\n",
      "\n",
      "5. **Load Testing**: Regularly perform load testing to understand how your application behaves under stress, helping you identify potential weaknesses before they become issues.\n",
      "\n",
      "6. **Asynchronous Processing**: Use asynchronous operations to improve responsiveness and throughput, allowing your application to handle multiple tasks simultaneously.\n",
      "\n",
      "7. **Code Review**: Encourage regular code reviews to identify and rectify inefficient coding practices that may hinder performance.\n",
      "\n",
      "8. **Resource Management**: Monitor and manage system resources (CPU, memory, I/O) to prevent overutilization and ensure that your application runs smoothly.\n",
      "\n",
      "9. **Network Optimization**: Optimize network calls and reduce latency through techniques such as data compression and minimizing payload sizes.\n",
      "\n",
      "10. **Configuration Tuning**: Adjust server and application configurations based on workload to achieve optimal performance.\n",
      "\n",
      "11. **Monitoring and Logging**: Implement robust monitoring and logging to track performance metrics and proactively identify issues before they impact users.\n",
      "\n",
      "12. **Scalability Considerations**: Design systems with scalability in mind, ensuring they can handle increased loads without significant performance degradation.\n",
      "\n",
      "By adhering to these practices, you can significantly enhance the performance of your application [KB002][KB012][KB022].\n",
      "\n",
      "Question: How do I version my APIs?\n"
     ]
    },
    {
     "name": "stderr",
     "output_type": "stream",
     "text": [
      "C:\\Users\\vyshagh.a\\AppData\\Local\\Temp\\ipykernel_9984\\1644381072.py:19: PydanticDeprecatedSince20: The `copy` method is deprecated; use `model_copy` instead. See the docstring of `BaseModel.copy` for details about how to handle `include` and `exclude`. Deprecated in Pydantic V2.0 to be removed in V3.0. See Pydantic V2 Migration Guide at https://errors.pydantic.dev/2.10/migration/\n",
      "  return state.copy(update={\"initial_answer\": answer})\n",
      "C:\\Users\\vyshagh.a\\AppData\\Local\\Temp\\ipykernel_9984\\1644381072.py:39: PydanticDeprecatedSince20: The `copy` method is deprecated; use `model_copy` instead. See the docstring of `BaseModel.copy` for details about how to handle `include` and `exclude`. Deprecated in Pydantic V2.0 to be removed in V3.0. See Pydantic V2 Migration Guide at https://errors.pydantic.dev/2.10/migration/\n",
      "  return state.copy(update={\"critique_result\": critique})\n",
      "C:\\Users\\vyshagh.a\\AppData\\Local\\Temp\\ipykernel_9984\\1644381072.py:67: PydanticDeprecatedSince20: The `copy` method is deprecated; use `model_copy` instead. See the docstring of `BaseModel.copy` for details about how to handle `include` and `exclude`. Deprecated in Pydantic V2.0 to be removed in V3.0. See Pydantic V2 Migration Guide at https://errors.pydantic.dev/2.10/migration/\n",
      "  return state.copy(update={\"answer\": refined_answer})\n"
     ]
    },
    {
     "name": "stdout",
     "output_type": "stream",
     "text": [
      "Final Answer:\n",
      " Refined Answer: When versioning your APIs, it's essential to adopt well-defined strategies to ensure clarity, maintainability, and a smooth transition for users. Here are some common methods for API versioning, along with best practices and considerations:\n",
      "\n",
      "1. **URI Versioning**: This method involves including the version number directly in the API endpoint (e.g., `/api/v1/resource`). \n",
      "   - **Pros**: Clear and straightforward; easy for clients to understand which version they are using.\n",
      "   - **Cons**: Can lead to URL bloat if multiple versions are maintained simultaneously.\n",
      "   - **Use Case**: Ideal for public APIs where version visibility is crucial.\n",
      "\n",
      "2. **Query Parameter Versioning**: In this approach, the version is specified as a query parameter (e.g., `/api/resource?version=1`).\n",
      "   - **Pros**: Flexible; allows for easy changes without altering the endpoint structure.\n",
      "   - **Cons**: Less intuitive for users; can be overlooked in documentation.\n",
      "   - **Use Case**: Suitable for APIs that may need to support multiple versions in a single endpoint.\n",
      "\n",
      "3. **Header Versioning**: This method specifies the version in the request headers (e.g., `Accept: application/vnd.yourapi.v1+json`).\n",
      "   - **Pros**: Keeps the URL clean; allows for more complex versioning strategies.\n",
      "   - **Cons**: Requires clients to manage headers correctly; can complicate debugging.\n",
      "   - **Use Case**: Best for APIs where versioning is part of content negotiation.\n",
      "\n",
      "### Best Practices:\n",
      "- **Deprecation Strategy**: Clearly communicate when a version will be deprecated and provide a timeline for users to transition to newer versions. This helps maintain trust and usability.\n",
      "- **Semantic Versioning**: Consider adopting semantic versioning (e.g., MAJOR.MINOR.PATCH) to convey the nature of changes in your API. This approach helps clients understand the impact of updates.\n",
      "- **Backward Compatibility**: Strive to maintain backward compatibility whenever possible. This minimizes disruption for clients using older versions of your API.\n",
      "\n",
      "### Additional Considerations:\n",
      "- Document each version thoroughly, including changes and migration paths.\n",
      "- Monitor usage of different versions to inform decisions about deprecation and support.\n",
      "\n",
      "For more detailed guidance on API versioning, refer to the relevant documentation [KB005], [KB015], [KB025].\n",
      "\n",
      "Question: What should I consider for error handling?\n"
     ]
    },
    {
     "name": "stderr",
     "output_type": "stream",
     "text": [
      "C:\\Users\\vyshagh.a\\AppData\\Local\\Temp\\ipykernel_9984\\1644381072.py:19: PydanticDeprecatedSince20: The `copy` method is deprecated; use `model_copy` instead. See the docstring of `BaseModel.copy` for details about how to handle `include` and `exclude`. Deprecated in Pydantic V2.0 to be removed in V3.0. See Pydantic V2 Migration Guide at https://errors.pydantic.dev/2.10/migration/\n",
      "  return state.copy(update={\"initial_answer\": answer})\n",
      "C:\\Users\\vyshagh.a\\AppData\\Local\\Temp\\ipykernel_9984\\1644381072.py:39: PydanticDeprecatedSince20: The `copy` method is deprecated; use `model_copy` instead. See the docstring of `BaseModel.copy` for details about how to handle `include` and `exclude`. Deprecated in Pydantic V2.0 to be removed in V3.0. See Pydantic V2 Migration Guide at https://errors.pydantic.dev/2.10/migration/\n",
      "  return state.copy(update={\"critique_result\": critique})\n"
     ]
    },
    {
     "name": "stdout",
     "output_type": "stream",
     "text": [
      "Final Answer:\n",
      " When considering error handling, it's crucial to follow well-defined patterns to ensure that your application can gracefully manage unexpected situations. Key aspects to consider include:\n",
      "\n",
      "1. **Consistent Error Reporting**: Use a uniform approach for logging and reporting errors to make it easier to diagnose issues.\n",
      "2. **Granular Error Types**: Differentiate between various types of errors (e.g., validation errors, system errors) to handle them appropriately.\n",
      "3. **User-Friendly Messages**: Provide clear and understandable error messages to users without exposing sensitive information.\n",
      "4. **Fallback Mechanisms**: Implement fallback strategies to maintain functionality when errors occur.\n",
      "5. **Testing and Monitoring**: Regularly test error handling scenarios and monitor for unhandled exceptions in production.\n",
      "6. **Centralized Error Handling**: Implement a centralized error handling mechanism to manage errors in one place, making it easier to maintain and update.\n",
      "7. **Error Codes**: Use standardized error codes to categorize and identify errors programmatically, which can aid in debugging and user support.\n",
      "8. **Retry Logic**: For transient errors, consider implementing retry logic to automatically attempt the operation again after a failure.\n",
      "9. **Graceful Degradation**: Design your application to degrade gracefully in the event of an error, allowing users to continue using other features.\n",
      "10. **Documentation**: Maintain clear documentation on error handling strategies and common error scenarios to assist developers and support teams.\n",
      "\n",
      "By adhering to these principles, you can create a robust error handling strategy that enhances the reliability of your software. [KB009], [KB019], [KB029]\n"
     ]
    },
    {
     "name": "stderr",
     "output_type": "stream",
     "text": [
      "C:\\Users\\vyshagh.a\\AppData\\Local\\Temp\\ipykernel_9984\\1644381072.py:67: PydanticDeprecatedSince20: The `copy` method is deprecated; use `model_copy` instead. See the docstring of `BaseModel.copy` for details about how to handle `include` and `exclude`. Deprecated in Pydantic V2.0 to be removed in V3.0. See Pydantic V2 Migration Guide at https://errors.pydantic.dev/2.10/migration/\n",
      "  return state.copy(update={\"answer\": refined_answer})\n"
     ]
    }
   ],
   "source": [
    "queries = [\n",
    "    \"What are best practices for caching?\",\n",
    "    \"How should I set up CI/CD pipelines?\",\n",
    "    \"What are performance tuning tips?\",\n",
    "    \"How do I version my APIs?\",\n",
    "    \"What should I consider for error handling?\"\n",
    "]\n",
    "\n",
    "for q in queries:\n",
    "    print(f\"\\nQuestion: {q}\")\n",
    "    output = graph.invoke({\"user_question\": q})\n",
    "    print(\"Final Answer:\\n\", output[\"answer\"])\n"
   ]
  },
  {
   "cell_type": "code",
   "execution_count": null,
   "id": "8f1c5829",
   "metadata": {},
   "outputs": [],
   "source": []
  },
  {
   "cell_type": "code",
   "execution_count": null,
   "id": "6d5230c3",
   "metadata": {},
   "outputs": [],
   "source": []
  }
 ],
 "metadata": {
  "kernelspec": {
   "display_name": ".venv",
   "language": "python",
   "name": "python3"
  },
  "language_info": {
   "codemirror_mode": {
    "name": "ipython",
    "version": 3
   },
   "file_extension": ".py",
   "mimetype": "text/x-python",
   "name": "python",
   "nbconvert_exporter": "python",
   "pygments_lexer": "ipython3",
   "version": "3.12.4"
  }
 },
 "nbformat": 4,
 "nbformat_minor": 5
}
